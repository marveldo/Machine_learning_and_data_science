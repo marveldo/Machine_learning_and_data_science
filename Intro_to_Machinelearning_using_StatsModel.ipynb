{
 "cells": [
  {
   "cell_type": "code",
   "execution_count": 7,
   "id": "bea4c2e4",
   "metadata": {},
   "outputs": [],
   "source": [
    "# Making Imports\n",
    "import pandas as pd\n",
    "import statsmodels.api as sm\n",
    "from sklearn.preprocessing import StandardScaler\n",
    "import numpy as np"
   ]
  },
  {
   "cell_type": "code",
   "execution_count": 98,
   "id": "17be5482",
   "metadata": {},
   "outputs": [],
   "source": [
    "#Declaring the data\n",
    "data = {\n",
    "    'Price' : [300 , 200 , 500 , 400, 600 , 800,700, 100 ],\n",
    "    'Doors' : [4,2,4,4,2,2,4,2],\n",
    "    'Mileage': [30,20,50,40,60,80,70,100],\n",
    "    'Cylinder': [3,2,5,4,6,8,7,10]\n",
    "}"
   ]
  },
  {
   "cell_type": "code",
   "execution_count": 99,
   "id": "471baee4",
   "metadata": {},
   "outputs": [
    {
     "data": {
      "text/plain": [
       "{'Price': [300, 200, 500, 400, 600, 800, 700, 100],\n",
       " 'Doors': [4, 2, 4, 4, 2, 2, 4, 2],\n",
       " 'Mileage': [30, 20, 50, 40, 60, 80, 70, 100],\n",
       " 'Cylinder': [3, 2, 5, 4, 6, 8, 7, 10]}"
      ]
     },
     "execution_count": 99,
     "metadata": {},
     "output_type": "execute_result"
    }
   ],
   "source": [
    "#Printing the data declared\n",
    "print(data)"
   ]
  },
  {
   "cell_type": "code",
   "execution_count": 100,
   "id": "04d8e1a0",
   "metadata": {},
   "outputs": [],
   "source": [
    "#Converting the data to a dataframe object\n",
    "df = pd.DataFrame(data)"
   ]
  },
  {
   "cell_type": "code",
   "execution_count": 101,
   "id": "e23ddfa2",
   "metadata": {},
   "outputs": [
    {
     "data": {
      "text/html": [
       "<div>\n",
       "<style scoped>\n",
       "    .dataframe tbody tr th:only-of-type {\n",
       "        vertical-align: middle;\n",
       "    }\n",
       "\n",
       "    .dataframe tbody tr th {\n",
       "        vertical-align: top;\n",
       "    }\n",
       "\n",
       "    .dataframe thead th {\n",
       "        text-align: right;\n",
       "    }\n",
       "</style>\n",
       "<table border=\"1\" class=\"dataframe\">\n",
       "  <thead>\n",
       "    <tr style=\"text-align: right;\">\n",
       "      <th></th>\n",
       "      <th>Price</th>\n",
       "      <th>Doors</th>\n",
       "      <th>Mileage</th>\n",
       "      <th>Cylinder</th>\n",
       "    </tr>\n",
       "  </thead>\n",
       "  <tbody>\n",
       "    <tr>\n",
       "      <th>0</th>\n",
       "      <td>300</td>\n",
       "      <td>4</td>\n",
       "      <td>30</td>\n",
       "      <td>3</td>\n",
       "    </tr>\n",
       "    <tr>\n",
       "      <th>1</th>\n",
       "      <td>200</td>\n",
       "      <td>2</td>\n",
       "      <td>20</td>\n",
       "      <td>2</td>\n",
       "    </tr>\n",
       "    <tr>\n",
       "      <th>2</th>\n",
       "      <td>500</td>\n",
       "      <td>4</td>\n",
       "      <td>50</td>\n",
       "      <td>5</td>\n",
       "    </tr>\n",
       "    <tr>\n",
       "      <th>3</th>\n",
       "      <td>400</td>\n",
       "      <td>4</td>\n",
       "      <td>40</td>\n",
       "      <td>4</td>\n",
       "    </tr>\n",
       "    <tr>\n",
       "      <th>4</th>\n",
       "      <td>600</td>\n",
       "      <td>2</td>\n",
       "      <td>60</td>\n",
       "      <td>6</td>\n",
       "    </tr>\n",
       "    <tr>\n",
       "      <th>5</th>\n",
       "      <td>800</td>\n",
       "      <td>2</td>\n",
       "      <td>80</td>\n",
       "      <td>8</td>\n",
       "    </tr>\n",
       "    <tr>\n",
       "      <th>6</th>\n",
       "      <td>700</td>\n",
       "      <td>4</td>\n",
       "      <td>70</td>\n",
       "      <td>7</td>\n",
       "    </tr>\n",
       "    <tr>\n",
       "      <th>7</th>\n",
       "      <td>100</td>\n",
       "      <td>2</td>\n",
       "      <td>100</td>\n",
       "      <td>10</td>\n",
       "    </tr>\n",
       "  </tbody>\n",
       "</table>\n",
       "</div>"
      ],
      "text/plain": [
       "   Price  Doors  Mileage  Cylinder\n",
       "0    300      4       30         3\n",
       "1    200      2       20         2\n",
       "2    500      4       50         5\n",
       "3    400      4       40         4\n",
       "4    600      2       60         6\n",
       "5    800      2       80         8\n",
       "6    700      4       70         7\n",
       "7    100      2      100        10"
      ]
     },
     "execution_count": 101,
     "metadata": {},
     "output_type": "execute_result"
    }
   ],
   "source": [
    "#Confirming the dataframe object\n",
    "df"
   ]
  },
  {
   "cell_type": "code",
   "execution_count": 102,
   "id": "0b7c7423",
   "metadata": {},
   "outputs": [
    {
     "data": {
      "text/html": [
       "<div>\n",
       "<style scoped>\n",
       "    .dataframe tbody tr th:only-of-type {\n",
       "        vertical-align: middle;\n",
       "    }\n",
       "\n",
       "    .dataframe tbody tr th {\n",
       "        vertical-align: top;\n",
       "    }\n",
       "\n",
       "    .dataframe thead th {\n",
       "        text-align: right;\n",
       "    }\n",
       "</style>\n",
       "<table border=\"1\" class=\"dataframe\">\n",
       "  <thead>\n",
       "    <tr style=\"text-align: right;\">\n",
       "      <th></th>\n",
       "      <th>Price</th>\n",
       "      <th>Doors</th>\n",
       "      <th>Mileage</th>\n",
       "      <th>Cylinder</th>\n",
       "    </tr>\n",
       "  </thead>\n",
       "  <tbody>\n",
       "    <tr>\n",
       "      <th>0</th>\n",
       "      <td>300</td>\n",
       "      <td>4</td>\n",
       "      <td>30</td>\n",
       "      <td>3</td>\n",
       "    </tr>\n",
       "    <tr>\n",
       "      <th>1</th>\n",
       "      <td>200</td>\n",
       "      <td>2</td>\n",
       "      <td>20</td>\n",
       "      <td>2</td>\n",
       "    </tr>\n",
       "    <tr>\n",
       "      <th>2</th>\n",
       "      <td>500</td>\n",
       "      <td>4</td>\n",
       "      <td>50</td>\n",
       "      <td>5</td>\n",
       "    </tr>\n",
       "    <tr>\n",
       "      <th>3</th>\n",
       "      <td>400</td>\n",
       "      <td>4</td>\n",
       "      <td>40</td>\n",
       "      <td>4</td>\n",
       "    </tr>\n",
       "    <tr>\n",
       "      <th>4</th>\n",
       "      <td>600</td>\n",
       "      <td>2</td>\n",
       "      <td>60</td>\n",
       "      <td>6</td>\n",
       "    </tr>\n",
       "  </tbody>\n",
       "</table>\n",
       "</div>"
      ],
      "text/plain": [
       "   Price  Doors  Mileage  Cylinder\n",
       "0    300      4       30         3\n",
       "1    200      2       20         2\n",
       "2    500      4       50         5\n",
       "3    400      4       40         4\n",
       "4    600      2       60         6"
      ]
     },
     "execution_count": 102,
     "metadata": {},
     "output_type": "execute_result"
    }
   ],
   "source": [
    "#Playing with the data object\n",
    "df.head()"
   ]
  },
  {
   "cell_type": "code",
   "execution_count": 131,
   "id": "65ea0689",
   "metadata": {},
   "outputs": [],
   "source": [
    "#Creating a range array using numpy\n",
    "bins = np.arange(100,900,100)"
   ]
  },
  {
   "cell_type": "code",
   "execution_count": 132,
   "id": "8f85d148",
   "metadata": {},
   "outputs": [
    {
     "data": {
      "text/plain": [
       "array([100, 200, 300, 400, 500, 600, 700, 800])"
      ]
     },
     "execution_count": 132,
     "metadata": {},
     "output_type": "execute_result"
    }
   ],
   "source": [
    "#Confirming the array object created\n",
    "bins"
   ]
  },
  {
   "cell_type": "code",
   "execution_count": 133,
   "id": "e1ecc8b4",
   "metadata": {},
   "outputs": [],
   "source": [
    "#grouping the price with the array created with numpy and getting the mean of other attribuest which falls in that price range\n",
    "grouped = df.groupby(pd.cut(df['Price'], bins)).mean()"
   ]
  },
  {
   "cell_type": "code",
   "execution_count": 135,
   "id": "986ed2ca",
   "metadata": {},
   "outputs": [
    {
     "data": {
      "text/html": [
       "<div>\n",
       "<style scoped>\n",
       "    .dataframe tbody tr th:only-of-type {\n",
       "        vertical-align: middle;\n",
       "    }\n",
       "\n",
       "    .dataframe tbody tr th {\n",
       "        vertical-align: top;\n",
       "    }\n",
       "\n",
       "    .dataframe thead th {\n",
       "        text-align: right;\n",
       "    }\n",
       "</style>\n",
       "<table border=\"1\" class=\"dataframe\">\n",
       "  <thead>\n",
       "    <tr style=\"text-align: right;\">\n",
       "      <th></th>\n",
       "      <th>Price</th>\n",
       "      <th>Doors</th>\n",
       "      <th>Mileage</th>\n",
       "      <th>Cylinder</th>\n",
       "    </tr>\n",
       "    <tr>\n",
       "      <th>Price</th>\n",
       "      <th></th>\n",
       "      <th></th>\n",
       "      <th></th>\n",
       "      <th></th>\n",
       "    </tr>\n",
       "  </thead>\n",
       "  <tbody>\n",
       "    <tr>\n",
       "      <th>(100, 200]</th>\n",
       "      <td>200.0</td>\n",
       "      <td>2.0</td>\n",
       "      <td>20.0</td>\n",
       "      <td>2.0</td>\n",
       "    </tr>\n",
       "    <tr>\n",
       "      <th>(200, 300]</th>\n",
       "      <td>300.0</td>\n",
       "      <td>4.0</td>\n",
       "      <td>30.0</td>\n",
       "      <td>3.0</td>\n",
       "    </tr>\n",
       "    <tr>\n",
       "      <th>(300, 400]</th>\n",
       "      <td>400.0</td>\n",
       "      <td>4.0</td>\n",
       "      <td>40.0</td>\n",
       "      <td>4.0</td>\n",
       "    </tr>\n",
       "    <tr>\n",
       "      <th>(400, 500]</th>\n",
       "      <td>500.0</td>\n",
       "      <td>4.0</td>\n",
       "      <td>50.0</td>\n",
       "      <td>5.0</td>\n",
       "    </tr>\n",
       "    <tr>\n",
       "      <th>(500, 600]</th>\n",
       "      <td>600.0</td>\n",
       "      <td>2.0</td>\n",
       "      <td>60.0</td>\n",
       "      <td>6.0</td>\n",
       "    </tr>\n",
       "    <tr>\n",
       "      <th>(600, 700]</th>\n",
       "      <td>700.0</td>\n",
       "      <td>4.0</td>\n",
       "      <td>70.0</td>\n",
       "      <td>7.0</td>\n",
       "    </tr>\n",
       "    <tr>\n",
       "      <th>(700, 800]</th>\n",
       "      <td>800.0</td>\n",
       "      <td>2.0</td>\n",
       "      <td>80.0</td>\n",
       "      <td>8.0</td>\n",
       "    </tr>\n",
       "  </tbody>\n",
       "</table>\n",
       "</div>"
      ],
      "text/plain": [
       "            Price  Doors  Mileage  Cylinder\n",
       "Price                                      \n",
       "(100, 200]  200.0    2.0     20.0       2.0\n",
       "(200, 300]  300.0    4.0     30.0       3.0\n",
       "(300, 400]  400.0    4.0     40.0       4.0\n",
       "(400, 500]  500.0    4.0     50.0       5.0\n",
       "(500, 600]  600.0    2.0     60.0       6.0\n",
       "(600, 700]  700.0    4.0     70.0       7.0\n",
       "(700, 800]  800.0    2.0     80.0       8.0"
      ]
     },
     "execution_count": 135,
     "metadata": {},
     "output_type": "execute_result"
    }
   ],
   "source": [
    "#Getting the first 7 elements in the dataframe object\n",
    "grouped.head(7)"
   ]
  },
  {
   "cell_type": "code",
   "execution_count": 137,
   "id": "a1958544",
   "metadata": {},
   "outputs": [
    {
     "data": {
      "text/plain": [
       "<Axes: xlabel='Price'>"
      ]
     },
     "execution_count": 137,
     "metadata": {},
     "output_type": "execute_result"
    },
    {
     "data": {
      "image/png": "[encoded data removed]",
      "text/plain": [
       "<Figure size 640x480 with 1 Axes>"
      ]
     },
     "metadata": {},
     "output_type": "display_data"
    }
   ],
   "source": [
    "#plotting a line graph to show the correlation or relationship between Price and Mileage\n",
    "grouped['Mileage'].plot.line()"
   ]
  },
  {
   "cell_type": "code",
   "execution_count": 108,
   "id": "caa3dfd0",
   "metadata": {},
   "outputs": [],
   "source": [
    "#Extracting the three attributes from the dataframe\n",
    "X = df[['Doors','Mileage','Cylinder']]"
   ]
  },
  {
   "cell_type": "code",
   "execution_count": 109,
   "id": "bb1ff311",
   "metadata": {},
   "outputs": [
    {
     "data": {
      "text/html": [
       "<div>\n",
       "<style scoped>\n",
       "    .dataframe tbody tr th:only-of-type {\n",
       "        vertical-align: middle;\n",
       "    }\n",
       "\n",
       "    .dataframe tbody tr th {\n",
       "        vertical-align: top;\n",
       "    }\n",
       "\n",
       "    .dataframe thead th {\n",
       "        text-align: right;\n",
       "    }\n",
       "</style>\n",
       "<table border=\"1\" class=\"dataframe\">\n",
       "  <thead>\n",
       "    <tr style=\"text-align: right;\">\n",
       "      <th></th>\n",
       "      <th>Doors</th>\n",
       "      <th>Mileage</th>\n",
       "      <th>Cylinder</th>\n",
       "    </tr>\n",
       "  </thead>\n",
       "  <tbody>\n",
       "    <tr>\n",
       "      <th>0</th>\n",
       "      <td>4</td>\n",
       "      <td>30</td>\n",
       "      <td>3</td>\n",
       "    </tr>\n",
       "    <tr>\n",
       "      <th>1</th>\n",
       "      <td>2</td>\n",
       "      <td>20</td>\n",
       "      <td>2</td>\n",
       "    </tr>\n",
       "    <tr>\n",
       "      <th>2</th>\n",
       "      <td>4</td>\n",
       "      <td>50</td>\n",
       "      <td>5</td>\n",
       "    </tr>\n",
       "    <tr>\n",
       "      <th>3</th>\n",
       "      <td>4</td>\n",
       "      <td>40</td>\n",
       "      <td>4</td>\n",
       "    </tr>\n",
       "    <tr>\n",
       "      <th>4</th>\n",
       "      <td>2</td>\n",
       "      <td>60</td>\n",
       "      <td>6</td>\n",
       "    </tr>\n",
       "    <tr>\n",
       "      <th>5</th>\n",
       "      <td>2</td>\n",
       "      <td>80</td>\n",
       "      <td>8</td>\n",
       "    </tr>\n",
       "    <tr>\n",
       "      <th>6</th>\n",
       "      <td>4</td>\n",
       "      <td>70</td>\n",
       "      <td>7</td>\n",
       "    </tr>\n",
       "    <tr>\n",
       "      <th>7</th>\n",
       "      <td>2</td>\n",
       "      <td>100</td>\n",
       "      <td>10</td>\n",
       "    </tr>\n",
       "  </tbody>\n",
       "</table>\n",
       "</div>"
      ],
      "text/plain": [
       "   Doors  Mileage  Cylinder\n",
       "0      4       30         3\n",
       "1      2       20         2\n",
       "2      4       50         5\n",
       "3      4       40         4\n",
       "4      2       60         6\n",
       "5      2       80         8\n",
       "6      4       70         7\n",
       "7      2      100        10"
      ]
     },
     "execution_count": 109,
     "metadata": {},
     "output_type": "execute_result"
    }
   ],
   "source": [
    "# Confirming the extracted data\n",
    "X"
   ]
  },
  {
   "cell_type": "code",
   "execution_count": 110,
   "id": "632a0f9c",
   "metadata": {},
   "outputs": [],
   "source": [
    "# Extracting the Price from the dataframe\n",
    "Y = df['Price']"
   ]
  },
  {
   "cell_type": "code",
   "execution_count": 111,
   "id": "6bf47023",
   "metadata": {},
   "outputs": [
    {
     "data": {
      "text/plain": [
       "0    300\n",
       "1    200\n",
       "2    500\n",
       "3    400\n",
       "4    600\n",
       "5    800\n",
       "6    700\n",
       "7    100\n",
       "Name: Price, dtype: int64"
      ]
     },
     "execution_count": 111,
     "metadata": {},
     "output_type": "execute_result"
    }
   ],
   "source": [
    "#confirming the extracted Price from the dataframe\n",
    "Y"
   ]
  },
  {
   "cell_type": "code",
   "execution_count": 112,
   "id": "18e4bc90",
   "metadata": {},
   "outputs": [],
   "source": [
    "# Instansiating the StandardScaler class\n",
    "scale = StandardScaler()"
   ]
  },
  {
   "cell_type": "code",
   "execution_count": 113,
   "id": "10e0f8ea",
   "metadata": {},
   "outputs": [
    {
     "name": "stderr",
     "output_type": "stream",
     "text": [
      "C:\\Users\\utibe\\AppData\\Local\\Temp\\ipykernel_4760\\2874098237.py:1: SettingWithCopyWarning: \n",
      "A value is trying to be set on a copy of a slice from a DataFrame.\n",
      "Try using .loc[row_indexer,col_indexer] = value instead\n",
      "\n",
      "See the caveats in the documentation: https://pandas.pydata.org/pandas-docs/stable/user_guide/indexing.html#returning-a-view-versus-a-copy\n",
      "  X[['Doors','Mileage','Cylinder']] = scale.fit_transform(X[['Doors','Mileage','Cylinder']].values)\n"
     ]
    }
   ],
   "source": [
    "# normalizing and Standardizing the values of the attribute in X for a non biased prddiction from the model\n",
    "X[['Doors','Mileage','Cylinder']] = scale.fit_transform(X[['Doors','Mileage','Cylinder']].values)"
   ]
  },
  {
   "cell_type": "code",
   "execution_count": 114,
   "id": "487aa7df",
   "metadata": {},
   "outputs": [
    {
     "data": {
      "text/html": [
       "<div>\n",
       "<style scoped>\n",
       "    .dataframe tbody tr th:only-of-type {\n",
       "        vertical-align: middle;\n",
       "    }\n",
       "\n",
       "    .dataframe tbody tr th {\n",
       "        vertical-align: top;\n",
       "    }\n",
       "\n",
       "    .dataframe thead th {\n",
       "        text-align: right;\n",
       "    }\n",
       "</style>\n",
       "<table border=\"1\" class=\"dataframe\">\n",
       "  <thead>\n",
       "    <tr style=\"text-align: right;\">\n",
       "      <th></th>\n",
       "      <th>Doors</th>\n",
       "      <th>Mileage</th>\n",
       "      <th>Cylinder</th>\n",
       "    </tr>\n",
       "  </thead>\n",
       "  <tbody>\n",
       "    <tr>\n",
       "      <th>0</th>\n",
       "      <td>1.0</td>\n",
       "      <td>-1.051315</td>\n",
       "      <td>-1.051315</td>\n",
       "    </tr>\n",
       "    <tr>\n",
       "      <th>1</th>\n",
       "      <td>-1.0</td>\n",
       "      <td>-1.451816</td>\n",
       "      <td>-1.451816</td>\n",
       "    </tr>\n",
       "    <tr>\n",
       "      <th>2</th>\n",
       "      <td>1.0</td>\n",
       "      <td>-0.250313</td>\n",
       "      <td>-0.250313</td>\n",
       "    </tr>\n",
       "    <tr>\n",
       "      <th>3</th>\n",
       "      <td>1.0</td>\n",
       "      <td>-0.650814</td>\n",
       "      <td>-0.650814</td>\n",
       "    </tr>\n",
       "    <tr>\n",
       "      <th>4</th>\n",
       "      <td>-1.0</td>\n",
       "      <td>0.150188</td>\n",
       "      <td>0.150188</td>\n",
       "    </tr>\n",
       "    <tr>\n",
       "      <th>5</th>\n",
       "      <td>-1.0</td>\n",
       "      <td>0.951190</td>\n",
       "      <td>0.951190</td>\n",
       "    </tr>\n",
       "    <tr>\n",
       "      <th>6</th>\n",
       "      <td>1.0</td>\n",
       "      <td>0.550689</td>\n",
       "      <td>0.550689</td>\n",
       "    </tr>\n",
       "    <tr>\n",
       "      <th>7</th>\n",
       "      <td>-1.0</td>\n",
       "      <td>1.752192</td>\n",
       "      <td>1.752192</td>\n",
       "    </tr>\n",
       "  </tbody>\n",
       "</table>\n",
       "</div>"
      ],
      "text/plain": [
       "   Doors   Mileage  Cylinder\n",
       "0    1.0 -1.051315 -1.051315\n",
       "1   -1.0 -1.451816 -1.451816\n",
       "2    1.0 -0.250313 -0.250313\n",
       "3    1.0 -0.650814 -0.650814\n",
       "4   -1.0  0.150188  0.150188\n",
       "5   -1.0  0.951190  0.951190\n",
       "6    1.0  0.550689  0.550689\n",
       "7   -1.0  1.752192  1.752192"
      ]
     },
     "execution_count": 114,
     "metadata": {},
     "output_type": "execute_result"
    }
   ],
   "source": [
    "#Confirming the new data\n",
    "X[['Doors','Mileage','Cylinder']]"
   ]
  },
  {
   "cell_type": "code",
   "execution_count": 115,
   "id": "11eb1cbc",
   "metadata": {},
   "outputs": [],
   "source": [
    "# Adding a constant or a form of interceptor for better training of the model which is 1\n",
    "X = sm.add_constant(X)"
   ]
  },
  {
   "cell_type": "code",
   "execution_count": 116,
   "id": "cc57ad67",
   "metadata": {},
   "outputs": [
    {
     "data": {
      "text/html": [
       "<div>\n",
       "<style scoped>\n",
       "    .dataframe tbody tr th:only-of-type {\n",
       "        vertical-align: middle;\n",
       "    }\n",
       "\n",
       "    .dataframe tbody tr th {\n",
       "        vertical-align: top;\n",
       "    }\n",
       "\n",
       "    .dataframe thead th {\n",
       "        text-align: right;\n",
       "    }\n",
       "</style>\n",
       "<table border=\"1\" class=\"dataframe\">\n",
       "  <thead>\n",
       "    <tr style=\"text-align: right;\">\n",
       "      <th></th>\n",
       "      <th>const</th>\n",
       "      <th>Doors</th>\n",
       "      <th>Mileage</th>\n",
       "      <th>Cylinder</th>\n",
       "    </tr>\n",
       "  </thead>\n",
       "  <tbody>\n",
       "    <tr>\n",
       "      <th>0</th>\n",
       "      <td>1.0</td>\n",
       "      <td>1.0</td>\n",
       "      <td>-1.051315</td>\n",
       "      <td>-1.051315</td>\n",
       "    </tr>\n",
       "    <tr>\n",
       "      <th>1</th>\n",
       "      <td>1.0</td>\n",
       "      <td>-1.0</td>\n",
       "      <td>-1.451816</td>\n",
       "      <td>-1.451816</td>\n",
       "    </tr>\n",
       "    <tr>\n",
       "      <th>2</th>\n",
       "      <td>1.0</td>\n",
       "      <td>1.0</td>\n",
       "      <td>-0.250313</td>\n",
       "      <td>-0.250313</td>\n",
       "    </tr>\n",
       "    <tr>\n",
       "      <th>3</th>\n",
       "      <td>1.0</td>\n",
       "      <td>1.0</td>\n",
       "      <td>-0.650814</td>\n",
       "      <td>-0.650814</td>\n",
       "    </tr>\n",
       "    <tr>\n",
       "      <th>4</th>\n",
       "      <td>1.0</td>\n",
       "      <td>-1.0</td>\n",
       "      <td>0.150188</td>\n",
       "      <td>0.150188</td>\n",
       "    </tr>\n",
       "    <tr>\n",
       "      <th>5</th>\n",
       "      <td>1.0</td>\n",
       "      <td>-1.0</td>\n",
       "      <td>0.951190</td>\n",
       "      <td>0.951190</td>\n",
       "    </tr>\n",
       "    <tr>\n",
       "      <th>6</th>\n",
       "      <td>1.0</td>\n",
       "      <td>1.0</td>\n",
       "      <td>0.550689</td>\n",
       "      <td>0.550689</td>\n",
       "    </tr>\n",
       "    <tr>\n",
       "      <th>7</th>\n",
       "      <td>1.0</td>\n",
       "      <td>-1.0</td>\n",
       "      <td>1.752192</td>\n",
       "      <td>1.752192</td>\n",
       "    </tr>\n",
       "  </tbody>\n",
       "</table>\n",
       "</div>"
      ],
      "text/plain": [
       "   const  Doors   Mileage  Cylinder\n",
       "0    1.0    1.0 -1.051315 -1.051315\n",
       "1    1.0   -1.0 -1.451816 -1.451816\n",
       "2    1.0    1.0 -0.250313 -0.250313\n",
       "3    1.0    1.0 -0.650814 -0.650814\n",
       "4    1.0   -1.0  0.150188  0.150188\n",
       "5    1.0   -1.0  0.951190  0.951190\n",
       "6    1.0    1.0  0.550689  0.550689\n",
       "7    1.0   -1.0  1.752192  1.752192"
      ]
     },
     "execution_count": 116,
     "metadata": {},
     "output_type": "execute_result"
    }
   ],
   "source": [
    "#new value of X\n",
    "X"
   ]
  },
  {
   "cell_type": "code",
   "execution_count": 117,
   "id": "184ec49e",
   "metadata": {},
   "outputs": [],
   "source": [
    "#Training the model\n",
    "model = sm.OLS(Y,X).fit()"
   ]
  },
  {
   "cell_type": "code",
   "execution_count": 118,
   "id": "eef5fed3",
   "metadata": {},
   "outputs": [
    {
     "name": "stdout",
     "output_type": "stream",
     "text": [
      "                            OLS Regression Results                            \n",
      "==============================================================================\n",
      "Dep. Variable:                  Price   R-squared:                       0.094\n",
      "Model:                            OLS   Adj. R-squared:                 -0.269\n",
      "Method:                 Least Squares   F-statistic:                    0.2581\n",
      "Date:                Wed, 13 Nov 2024   Prob (F-statistic):              0.782\n",
      "Time:                        02:03:45   Log-Likelihood:                -54.433\n",
      "No. Observations:                   8   AIC:                             114.9\n",
      "Df Residuals:                       5   BIC:                             115.1\n",
      "Df Model:                           2                                         \n",
      "Covariance Type:            nonrobust                                         \n",
      "==============================================================================\n",
      "                 coef    std err          t      P>|t|      [0.025      0.975]\n",
      "------------------------------------------------------------------------------\n",
      "const        450.0000     97.558      4.613      0.006     199.220     700.780\n",
      "Doors         49.5000    104.163      0.475      0.655    -218.260     317.260\n",
      "Mileage       34.9562     52.082      0.671      0.532     -98.924     168.836\n",
      "Cylinder      34.9562     52.082      0.671      0.532     -98.924     168.836\n",
      "==============================================================================\n",
      "Omnibus:                        0.651   Durbin-Watson:                   1.237\n",
      "Prob(Omnibus):                  0.722   Jarque-Bera (JB):                0.245\n",
      "Skew:                          -0.372   Prob(JB):                        0.885\n",
      "Kurtosis:                       2.574   Cond. No.                     1.42e+16\n",
      "==============================================================================\n",
      "\n",
      "Notes:\n",
      "[1] Standard Errors assume that the covariance matrix of the errors is correctly specified.\n",
      "[2] The smallest eigenvalue is 8.69e-32. This might indicate that there are\n",
      "strong multicollinearity problems or that the design matrix is singular.\n"
     ]
    },
    {
     "name": "stderr",
     "output_type": "stream",
     "text": [
      "C:\\Users\\utibe\\anaconda3\\Lib\\site-packages\\scipy\\stats\\_stats_py.py:1806: UserWarning: kurtosistest only valid for n>=20 ... continuing anyway, n=8\n",
      "  warnings.warn(\"kurtosistest only valid for n>=20 ... continuing \"\n"
     ]
    }
   ],
   "source": [
    "#Printing the summary of the trained model\n",
    "print(model.summary())"
   ]
  },
  {
   "cell_type": "code",
   "execution_count": 127,
   "id": "5d2833c4",
   "metadata": {},
   "outputs": [
    {
     "name": "stdout",
     "output_type": "stream",
     "text": [
      "[[ 1.         -0.65081403  1.75219161]]\n"
     ]
    }
   ],
   "source": [
    "#Testing the model with new data and also standardizing the normalizing the new data\n",
    "y =scale.transform([[4,40,10]])\n",
    "print(y)"
   ]
  },
  {
   "cell_type": "code",
   "execution_count": 128,
   "id": "0e0c14b2",
   "metadata": {},
   "outputs": [],
   "source": [
    "#Inserting a constant 1 to the data\n",
    "y = np.insert(y[0],0, 1)"
   ]
  },
  {
   "cell_type": "code",
   "execution_count": 129,
   "id": "94d3b933",
   "metadata": {},
   "outputs": [
    {
     "data": {
      "text/plain": [
       "array([ 1.        ,  1.        , -0.65081403,  1.75219161])"
      ]
     },
     "execution_count": 129,
     "metadata": {},
     "output_type": "execute_result"
    }
   ],
   "source": [
    "#Confirming the value\n",
    "y"
   ]
  },
  {
   "cell_type": "code",
   "execution_count": 130,
   "id": "2d623887",
   "metadata": {},
   "outputs": [
    {
     "name": "stdout",
     "output_type": "stream",
     "text": [
      "[538.]\n"
     ]
    }
   ],
   "source": [
    "#Predicting with the model\n",
    "predicted = model.predict(y)\n",
    "print(predicted)"
   ]
  },
  {
   "cell_type": "code",
   "execution_count": null,
   "id": "e7f1ad59",
   "metadata": {},
   "outputs": [],
   "source": []
  }
 ],
 "metadata": {
  "kernelspec": {
   "display_name": "Python 3 (ipykernel)",
   "language": "python",
   "name": "python3"
  },
  "language_info": {
   "codemirror_mode": {
    "name": "ipython",
    "version": 3
   },
   "file_extension": ".py",
   "mimetype": "text/x-python",
   "name": "python",
   "nbconvert_exporter": "python",
   "pygments_lexer": "ipython3",
   "version": "3.11.5"
  }
 },
 "nbformat": 4,
 "nbformat_minor": 5
}
